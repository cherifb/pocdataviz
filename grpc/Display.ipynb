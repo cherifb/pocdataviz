{
 "cells": [
  {
   "cell_type": "code",
   "execution_count": 1,
   "id": "f3339666-e02b-47c0-8565-95e7a2c4dd8f",
   "metadata": {},
   "outputs": [
    {
     "data": {
      "application/vnd.jupyter.widget-view+json": {
       "model_id": "d75cb5c6700c40519faf3738ec55f35a",
       "version_major": 2,
       "version_minor": 0
      },
      "text/plain": [
       "Label(value='Ask: 0')"
      ]
     },
     "metadata": {},
     "output_type": "display_data"
    },
    {
     "data": {
      "application/vnd.jupyter.widget-view+json": {
       "model_id": "1bd7bdd805514b86ba655d0b908738c7",
       "version_major": 2,
       "version_minor": 0
      },
      "text/plain": [
       "Label(value='Bid: 0')"
      ]
     },
     "metadata": {},
     "output_type": "display_data"
    },
    {
     "data": {
      "application/vnd.jupyter.widget-view+json": {
       "model_id": "7e5055716af845228055865070b6fc46",
       "version_major": 2,
       "version_minor": 0
      },
      "text/plain": [
       "Label(value='Spread: 0')"
      ]
     },
     "metadata": {},
     "output_type": "display_data"
    },
    {
     "name": "stdout",
     "output_type": "stream",
     "text": [
      "Synced with:  {'eris'}\n",
      "Synced with:  {'bfly'}\n",
      "Synced with:  {'bfnx'}\n",
      "Synced with:  {'itbi'}\n"
     ]
    },
    {
     "name": "stderr",
     "output_type": "stream",
     "text": [
      "Exception in thread Thread-5 (simulate_updates):\n",
      "Traceback (most recent call last):\n",
      "  File \"C:\\Program Files\\WindowsApps\\PythonSoftwareFoundation.Python.3.11_3.11.1776.0_x64__qbz5n2kfra8p0\\Lib\\threading.py\", line 1045, in _bootstrap_inner\n",
      "    self.run()\n",
      "  File \"C:\\Program Files\\WindowsApps\\PythonSoftwareFoundation.Python.3.11_3.11.1776.0_x64__qbz5n2kfra8p0\\Lib\\threading.py\", line 982, in run\n",
      "    self._target(*self._args, **self._kwargs)\n",
      "  File \"C:\\Users\\BedissCherif\\AppData\\Local\\Temp\\ipykernel_1612\\3963653745.py\", line 50, in simulate_updates\n",
      "AttributeError: 'NotionalQuoteManager' object has no attribute 'get_notional_quote_jsonget_notional_quote_json'\n"
     ]
    },
    {
     "name": "stdout",
     "output_type": "stream",
     "text": [
      "Synced with:  {'oslx'}\n",
      "Synced with:  {'okcn'}\n",
      "Synced with:  {'stmp'}\n",
      "Synced with:  {'cexi'}\n",
      "Synced with:  {'cbse'}\n",
      "Synced with:  {'krkn'}\n"
     ]
    }
   ],
   "source": [
    "#display the results\n",
    "from __future__ import print_function\n",
    "import ipywidgets as widgets\n",
    "from IPython.display import display\n",
    "import time\n",
    "import threading\n",
    "import sys\n",
    "import logging\n",
    "import os\n",
    "import threading\n",
    "import grpc\n",
    "from datetime import datetime\n",
    "from NotionalQuoteManager import NotionalQuoteManager\n",
    "\n",
    "# Create widgets for ask and bid\n",
    "ask_label = widgets.Label(value=f\"Ask: {0}\")\n",
    "bid_label = widgets.Label(value=f\"Bid: {0}\")\n",
    "spread_label = widgets.Label(value=f\"Spread: {0}\")\n",
    "\n",
    "# Function to update values\n",
    "def update_values(ask, bid, spread):\n",
    "    ask_label.value = f\"Ask: {ask}\"\n",
    "    bid_label.value = f\"Bid: {bid}\"\n",
    "    spread_label.value = f\"Spread: {spread}\"\n",
    "\n",
    "# Display the widgets\n",
    "display(ask_label, bid_label, spread_label)\n",
    "\n",
    "# Simulate real-time updates\n",
    "def simulate_updates():\n",
    "    # Requesting user input for the parameters\n",
    "    exchange = \"*\"\n",
    "    instrument_class = \"spot\"\n",
    "    code = \"btc-usd\"\n",
    "    notional_amount = 100\n",
    "    #grpc config\n",
    "    credentials = grpc.ssl_channel_credentials(root_certificates=None)\n",
    "    call_credentials = grpc.access_token_call_credentials(os.environ['KAIKO_API_KEY'])\n",
    "    composite_credentials = grpc.composite_channel_credentials(credentials, call_credentials)\n",
    "    channel_OB = grpc.secure_channel('gateway-v0-grpc.kaiko.ovh', composite_credentials)\n",
    "    # Notional Quote Manager instance\n",
    "    manager = NotionalQuoteManager()\n",
    "    # Start processing\n",
    "    manager.start(channel_OB,exchange, instrument_class,code, notional_amount)\n",
    "    try:\n",
    "        while True:\n",
    "            manager.update_event.wait()  # Block until data is updated\n",
    "            #print(manager.orderBookManager.get_order_book_bbo_json()) # print the order book for debug purpose\n",
    "            if manager.get_notional_quote_json()['spread']>0: \n",
    "                ask=manager.get_notional_quote_json()['ask']\n",
    "                bid=manager.get_notional_quote_json()['bid']\n",
    "                spread=manager.get_notional_quote_json()['spread']\n",
    "                update_values(ask, bid, spread)\n",
    "            manager.update_event.clear()  # Reset the event\n",
    "    except KeyboardInterrupt:\n",
    "            pass\n",
    "\n",
    "\n",
    "# Start the simulation in a separate thread\n",
    "thread = threading.Thread(target=simulate_updates)\n",
    "thread.start()"
   ]
  },
  {
   "cell_type": "code",
   "execution_count": null,
   "metadata": {},
   "outputs": [],
   "source": []
  }
 ],
 "metadata": {
  "kernelspec": {
   "display_name": "Python 3 (ipykernel)",
   "language": "python",
   "name": "python3"
  },
  "language_info": {
   "codemirror_mode": {
    "name": "ipython",
    "version": 3
   },
   "file_extension": ".py",
   "mimetype": "text/x-python",
   "name": "python",
   "nbconvert_exporter": "python",
   "pygments_lexer": "ipython3",
   "version": "3.11.6"
  }
 },
 "nbformat": 4,
 "nbformat_minor": 5
}
